{
 "cells": [
  {
   "cell_type": "markdown",
   "metadata": {
    "collapsed": false
   },
   "source": [
    "# 飞桨常规赛：量子电路合成8月第4名方案"
   ]
  },
  {
   "cell_type": "markdown",
   "metadata": {
    "collapsed": false
   },
   "source": [
    "# 一.赛题解析\n",
    "\n",
    "以第二题为例：\n",
    "\n",
    "\n",
    "第二题：双量子比特门分解（2 分）\n",
    "问题描述： 将给定的 4×4 实数酉矩阵 U 分解为满足以下结构的量子电路：\n",
    "\n",
    "![](https://ai.bdstatic.com/file/8BFD828FA35B4DB584AD7F638CDB84D7)\n",
    "\n",
    "\n",
    "输入数据： Question_2_Unitary.txt 文件。该文件存放题目中给定的 4×4 实数酉矩阵 U，文件的一行对应矩阵的一行，每一行的 4 个 float 类型实数使用空格分开。\n",
    "\n",
    "输出数据： Question_2_Answer.txt 文件。该文件描述答案的量子电路结构，数据格式需满足 “提交内容说明” 要求。可选的文件内容格式为\n",
    "```\n",
    "R 0 $\\theta_1$\n",
    "R 1 $\\theta_2$\n",
    "C 0 1\n",
    "R 0 $\\theta_3$\n",
    "R 0 $\\theta_4$\n",
    "```\n",
    "其中  (θ1,θ2,θ3,θ4) 是选手给出的 float 类型实数。\n",
    "\n"
   ]
  },
  {
   "cell_type": "markdown",
   "metadata": {
    "collapsed": false
   },
   "source": [
    "# 二.神经网络总体思想\n",
    "\n",
    "* 利用量桨的原生优势，结合paddle的反向传播、后向计算、自动求导的机制\n",
    "\n",
    "* 在Paddle-Quantum的基础上，大幅度增大epoch、提高迭代数量，并降低学习率\n",
    "\n",
    "* 使用高层api提供的多种优化器，多次测试\n",
    "\n",
    "* 按照不同的迭代次数，每次都保存训练的$theta$值\n",
    "\n"
   ]
  },
  {
   "cell_type": "markdown",
   "metadata": {
    "collapsed": false
   },
   "source": [
    "# 三.方案总体思想\n",
    "\n",
    "* **问题一：**\n",
    "\n",
    " 直接对应Question_1_Answer中的数据搭建对应的y门电路。\n",
    " \n",
    "\n",
    "* **问题二：**\n",
    "\n",
    "对已知的电路进行多步theta优化，再与数据集中的数据对比即可。\n",
    "\n",
    "* **第三题：**\n",
    "\n",
    "同第二题\n",
    " \n",
    "* **第四题、第五题：**\n",
    "借鉴了量子力学里的量子纠缠的思想，并结合paddle-quantum的若纠错网络[Quantum](https://github.com/PaddlePaddle/Quantum),对纠缠网络进行展开。\n",
    "\n",
    "* **第六题：**\n",
    "\n",
    "使用常规的方法没有得出结果，下次继续努力\n"
   ]
  },
  {
   "cell_type": "markdown",
   "metadata": {
    "collapsed": false
   },
   "source": [
    "# **四.具体方案解读**\n",
    "# 1.基于PaddlePaddle构建损失函数\n",
    "利用最大似然估计思想和Paddle高层提供的最小优化方法，\n",
    "```\n",
    "目标函数：loss=1-相似矩阵求解的值\n",
    "```\n",
    "# 2.根据最后结果动态调整学习率和迭代次数\n",
    "对于能拉开差距的第4题，将相关参数设置为：\n",
    "\n",
    "```\n",
    "ITR = 30000       # 设置迭代次数\n",
    "LR = 0.001        # 设置学习速率\n",
    "```\n",
    "更改不同的优化器，PaddlePaddle提供了10多种优化器api\n",
    "```\n",
    "adadelta = paddle.optimizer.Adadelta(learning_rate=0.0003, epsilon=1.0e-6, rho=0.95, parameters=model.parameters())\n",
    "\n",
    "adagrad = paddle.optimizer.Adagrad(learning_rate=0.1, parameters=model.parameters())\n",
    "\n",
    "lamb = paddle.optimizer.Lamb(learning_rate=0.002, parameters=model.parameters(), lamb_weight_decay=0.01)\n",
    "\n",
    "......\n",
    "```\n",
    "[三月第三名方案](https://aistudio.baidu.com/aistudio/projectdetail/1620929)使用的是Adam优化器\n",
    "```\n",
    "opts = optimizer.Adam(learning_rate=lr, parameters=model.parameters())\n",
    "```\n",
    "[四月第五名方案](https://aistudio.baidu.com/aistudio/projectdetail/1770862)使用的也是Adam优化器\n",
    "\n",
    "```\n",
    "opts = optimizer.Adam(learning_rate=lr, parameters=model.parameters())\n",
    "```\n",
    "\n",
    "[七月第二名方案](https://aistudio.baidu.com/aistudio/projectdetail/2183383?channelType=0&channel=0)使用的是SGD优化器\n",
    "\n",
    "```\n",
    "optimizer =paddle.optimizer.SGD(learning_rate = LR, parameters = myLayer.parameters()) \n",
    "```"
   ]
  },
  {
   "cell_type": "markdown",
   "metadata": {
    "collapsed": false
   },
   "source": [
    "# 五.具体代码展示"
   ]
  },
  {
   "cell_type": "code",
   "execution_count": null,
   "metadata": {
    "collapsed": false
   },
   "outputs": [],
   "source": [
    "# 如果需要进行持久化安装, 需要使用持久化路径, 如下方代码示例:\n",
    "# If a persistence installation is required, \n",
    "# you need to use the persistence path as the following: \n",
    "!mkdir /home/aistudio/external-libraries\n",
    "!pip install paddle_quantum -t /home/aistudio/external-libraries"
   ]
  },
  {
   "cell_type": "code",
   "execution_count": 3,
   "metadata": {
    "collapsed": false
   },
   "outputs": [],
   "source": [
    "#安装依赖包\r\n",
    "!python -m pip install -r work/requirements.txt\r\n"
   ]
  },
  {
   "cell_type": "code",
   "execution_count": 4,
   "metadata": {
    "collapsed": false
   },
   "outputs": [],
   "source": [
    "#解压数据集\r\n",
    "!unzip -oq work/飞桨常规赛：量子电路合成.zip"
   ]
  },
  {
   "cell_type": "code",
   "execution_count": 5,
   "metadata": {
    "collapsed": false
   },
   "outputs": [],
   "source": [
    "import os\n",
    "#os.mkdir('Anwser')"
   ]
  },
  {
   "cell_type": "code",
   "execution_count": 6,
   "metadata": {
    "collapsed": false
   },
   "outputs": [],
   "source": [
    "!python work/quest1.py"
   ]
  },
  {
   "cell_type": "code",
   "execution_count": 8,
   "metadata": {
    "collapsed": false
   },
   "outputs": [],
   "source": [
    "!python work/quest2.py"
   ]
  },
  {
   "cell_type": "code",
   "execution_count": 9,
   "metadata": {
    "collapsed": false
   },
   "outputs": [],
   "source": [
    "!python work/quest3.py"
   ]
  },
  {
   "cell_type": "code",
   "execution_count": 10,
   "metadata": {
    "collapsed": false
   },
   "outputs": [],
   "source": [
    "!python work/quest4.py"
   ]
  },
  {
   "cell_type": "code",
   "execution_count": 11,
   "metadata": {
    "collapsed": false
   },
   "outputs": [],
   "source": [
    "!python work/quest5.py"
   ]
  },
  {
   "cell_type": "code",
   "execution_count": 12,
   "metadata": {
    "collapsed": false
   },
   "outputs": [],
   "source": [
    "!python work/quest6.py"
   ]
  },
  {
   "cell_type": "code",
   "execution_count": 15,
   "metadata": {
    "collapsed": false
   },
   "outputs": [
    {
     "name": "stdout",
     "output_type": "stream",
     "text": [
      "  adding: Anwser/ (stored 0%)\r\n",
      "  adding: Anwser/Question_4_Answer.txt (deflated 48%)\r\n",
      "  adding: Anwser/Question_3_Answer.txt (deflated 30%)\r\n",
      "  adding: Anwser/Question_2_Answer.txt (deflated 25%)\r\n",
      "  adding: Anwser/Question_6_Answer.txt (stored 0%)\r\n",
      "  adding: Anwser/Question_5_Answer.txt (deflated 54%)\r\n",
      "  adding: Anwser/Question_1_Answer.txt (stored 0%)\r\n"
     ]
    }
   ],
   "source": [
    "#打包处理结果\r\n",
    "!zip -r Answer.zip Anwser"
   ]
  },
  {
   "cell_type": "markdown",
   "metadata": {
    "collapsed": false
   },
   "source": [
    "# 六.总结\n",
    "\n",
    "* 前三题实现并不是很难，难点主要在后三题。因此采用更优的方法就尤为重要。\n",
    "* 本项目主要还是侧重超参数的优化等传统方法，如：动态调整学习率、增大epoch迭代数、更换优化器使模型拟合效果更好。\n",
    "* 下一阶段，可以考虑采用架构搜索的方法，多提升神经网络架构空间的搜索策略：如贝叶斯优化、进化算法、基于梯度的方法。\n",
    "* 另外，一味的增加迭代数量、加深网络层数并不能使从根本上大幅度提升模型的性能。\n",
    "\n"
   ]
  },
  {
   "cell_type": "markdown",
   "metadata": {
    "collapsed": false
   },
   "source": [
    "# 七.飞桨技术平台体验\n",
    "[飞桨PaddlePaddle一直致力于降低人工智能的门槛，因此，高效的利用这一工具一定会事半功倍。\n",
    "凭借着深度学习技术与适应多任务的开发套件，使得开发周期缩短，减少了代码量，提高了效率。](http://www.paddlepaddle.org)\n",
    "\n",
    "\n",
    "[量桨基于百度飞桨开发的量子机器学习工具集，支持量子神经网络的搭建与训练，提供易用的量子机器学习开发套件与量子优化、量子化学等前沿量子应用工具集，使得百度飞桨也因此成为国内首个目前也是唯一一个支持量子机器学习的深度学习框架。量桨建立起了人工智能与量子计算的桥梁，通过百度飞桨深度学习平台赋能量子计算，为领域内的科研人员以及开发者便捷地开发量子人工智能的应用提供了强有力的支撑，同时也为广大量子计算爱好者提供了一条可行的学习途径。](https://qml.baidu.com)\n",
    "\n",
    "![](https://ai-studio-static-online.cdn.bcebos.com/f8308c51e4eb4cccba37a02278b48ec5ede0428cc87c4a0abebe895de6544157)"
   ]
  }
 ],
 "metadata": {
  "kernelspec": {
   "display_name": "PaddlePaddle 2.1.2 (Python 3.5)",
   "language": "python",
   "name": "py35-paddle1.2.0"
  },
  "language_info": {
   "codemirror_mode": {
    "name": "ipython",
    "version": 3
   },
   "file_extension": ".py",
   "mimetype": "text/x-python",
   "name": "python",
   "nbconvert_exporter": "python",
   "pygments_lexer": "ipython3",
   "version": "3.7.4"
  }
 },
 "nbformat": 4,
 "nbformat_minor": 1
}
